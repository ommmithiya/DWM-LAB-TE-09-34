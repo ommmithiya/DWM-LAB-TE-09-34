{
  "nbformat": 4,
  "nbformat_minor": 0,
  "metadata": {
    "colab": {
      "provenance": []
    },
    "kernelspec": {
      "name": "python3",
      "display_name": "Python 3"
    },
    "language_info": {
      "name": "python"
    }
  },
  "cells": [
    {
      "cell_type": "markdown",
      "source": [
        "**Name** - Om Mithiya | Div - TY9 | Roll no - 34 | Subject  - DWM | Experiment No - 2\n",
        "\n",
        "\n",
        "**Aim:**\n",
        "\n",
        "The aim of this experiment is to implement OLAP operations such as Slice, Dice, Rollup, Drilldown, and Pivot on a dataset to understand how these operations can be applied to analyze multi-dimensional data.\n",
        "\n",
        "**Theory:**\n",
        "\n",
        "OLAP (Online Analytical Processing) operations allow users to perform sophisticated data analysis in a multidimensional space. These operations help transform large volumes of raw data into actionable insights. The key OLAP operations include:\n",
        "\n",
        "-Slice: It involves selecting a single layer from a multi-dimensional dataset, effectively reducing the dimensionality by one. For example, extracting data for a specific time period or region.\n",
        "\n",
        "-Dice: This operation selects a subcube by choosing specific values for two or more dimensions. It is essentially a multi-dimensional filter.\n",
        "\n",
        "\n",
        "-Rollup: It aggregates data along a dimension, typically moving to a higher level of abstraction, like summarizing sales data from daily to monthly or yearly.\n",
        "\n",
        "\n",
        "-Drilldown: It is the opposite of roll-up; it allows users to navigate to a more detailed level of the data, like breaking down yearly data into monthly or daily records.\n",
        "\n",
        "\n",
        "-Pivot: Pivoting involves reorienting the multidimensional data view to gain different perspectives, like rotating the axes of a table for a clearer representation.\n",
        "\n"
      ],
      "metadata": {
        "id": "uqZ_H9imrJn9"
      }
    },
    {
      "cell_type": "code",
      "execution_count": null,
      "metadata": {
        "colab": {
          "base_uri": "https://localhost:8080/"
        },
        "id": "YhusIeJhqx5V",
        "outputId": "bcc26af7-8227-4a96-8d08-d7ad58d4c95f"
      },
      "outputs": [
        {
          "output_type": "stream",
          "name": "stdout",
          "text": [
            "Original Dataset:\n",
            "   Year Department Employee  Performance_Score\n",
            "0  2021         HR       E1                 80\n",
            "1  2021         IT       E2                 90\n",
            "2  2021      Sales       E3                 70\n",
            "3  2022         HR       E4                 85\n",
            "4  2022         IT       E5                 88\n",
            "5  2022      Sales       E6                 75\n",
            "\n",
            "Slice Operation (Data for 2021):\n",
            "   Year Department Employee  Performance_Score\n",
            "0  2021         HR       E1                 80\n",
            "1  2021         IT       E2                 90\n",
            "2  2021      Sales       E3                 70\n",
            "\n",
            "Dice Operation (Data for IT and Sales departments):\n",
            "   Year Department Employee  Performance_Score\n",
            "1  2021         IT       E2                 90\n",
            "2  2021      Sales       E3                 70\n",
            "4  2022         IT       E5                 88\n",
            "5  2022      Sales       E6                 75\n",
            "\n",
            "Roll-up Operation (Average Performance Score by Year):\n",
            "   Year  Performance_Score\n",
            "0  2021          80.000000\n",
            "1  2022          82.666667\n",
            "\n",
            "Drilldown Operation (Average Performance Score by Year and Department):\n",
            "   Year Department  Performance_Score\n",
            "0  2021         HR               80.0\n",
            "1  2021         IT               90.0\n",
            "2  2021      Sales               70.0\n",
            "3  2022         HR               85.0\n",
            "4  2022         IT               88.0\n",
            "5  2022      Sales               75.0\n",
            "\n",
            "Pivot Operation (Performance Score by Department and Employee):\n",
            "Employee      E1    E2    E3    E4    E5    E6\n",
            "Department                                    \n",
            "HR          80.0   0.0   0.0  85.0   0.0   0.0\n",
            "IT           0.0  90.0   0.0   0.0  88.0   0.0\n",
            "Sales        0.0   0.0  70.0   0.0   0.0  75.0\n"
          ]
        }
      ],
      "source": [
        "import pandas as pd\n",
        "\n",
        "# Updated dataset: Employee performance data\n",
        "data = {\n",
        "    'Year': [2021, 2021, 2021, 2022, 2022, 2022],\n",
        "    'Department': ['HR', 'IT', 'Sales', 'HR', 'IT', 'Sales'],\n",
        "    'Employee': ['E1', 'E2', 'E3', 'E4', 'E5', 'E6'],\n",
        "    'Performance_Score': [80, 90, 70, 85, 88, 75]\n",
        "}\n",
        "\n",
        "df = pd.DataFrame(data)\n",
        "\n",
        "# Display original dataset\n",
        "print(\"Original Dataset:\")\n",
        "print(df)\n",
        "\n",
        "# 1. Slice Operation: Extract data for the year 2021\n",
        "slice_data = df[df['Year'] == 2021]\n",
        "print(\"\\nSlice Operation (Data for 2021):\")\n",
        "print(slice_data)\n",
        "\n",
        "# 2. Dice Operation: Select data for IT and Sales departments\n",
        "dice_data = df[df['Department'].isin(['IT', 'Sales'])]\n",
        "print(\"\\nDice Operation (Data for IT and Sales departments):\")\n",
        "print(dice_data)\n",
        "\n",
        "# 3. Roll-up Operation: Summarize average performance score by Year\n",
        "rollup_data = df.groupby('Year')['Performance_Score'].mean().reset_index()\n",
        "print(\"\\nRoll-up Operation (Average Performance Score by Year):\")\n",
        "print(rollup_data)\n",
        "\n",
        "# 4. Drilldown Operation: Drill down to see performance score by department and year\n",
        "drilldown_data = df.groupby(['Year', 'Department'])['Performance_Score'].mean().reset_index()\n",
        "print(\"\\nDrilldown Operation (Average Performance Score by Year and Department):\")\n",
        "print(drilldown_data)\n",
        "\n",
        "# 5. Pivot Operation: Pivot the data to show performance score by Department and Employee\n",
        "pivot_data = df.pivot_table(values='Performance_Score', index='Department', columns='Employee', aggfunc='mean', fill_value=0)\n",
        "print(\"\\nPivot Operation (Performance Score by Department and Employee):\")\n",
        "print(pivot_data)\n"
      ]
    },
    {
      "cell_type": "markdown",
      "source": [
        "**Review Questions:**\n",
        "\n",
        "1. What is the difference between the Slice and Dice operations in OLAP?\n",
        "\n",
        "**Slice** refers to selecting a single dimension from a multi-dimensional data cube to analyze a specific \"slice\" or subset. It reduces the dimensionality by focusing on one specific aspect, like selecting data for one year from a time-based dataset.\n",
        "\n",
        "\n",
        "**Dice**, on the other hand, is a more advanced operation that involves selecting specific values from multiple dimensions to create a subcube. It allows filtering across multiple dimensions simultaneously, such as selecting data for a specific year and region.\n",
        "\n",
        "2. How does the Roll-up operation help in summarizing large volumes of data?\n",
        "\n",
        "The **Roll-up** operation aggregates data by moving up one or more dimensions in the hierarchy. For example, summarizing daily sales into monthly or yearly sales data. This helps in reducing the granularity of the data, making it easier to identify trends and perform high-level analysis, especially when dealing with large datasets.\n",
        "\n",
        "\n",
        "\n",
        "3. Give an example of a scenario where Pivoting the data provides a clearer insight than a traditional tabular view?\n",
        "\n",
        "-A typical scenario would be analyzing sales performance over time and across regions. In a traditional tabular view, each row might represent a region and each column a year, but it could be hard to compare regions across years. By pivoting the data, the years could be placed as rows and regions as columns, making it easier to compare sales performance across regions for each year.\n",
        "\n",
        "\n",
        "\n",
        "\n"
      ],
      "metadata": {
        "id": "w5u_ONBLr3lO"
      }
    },
    {
      "cell_type": "markdown",
      "source": [
        "**Conclusion:**\n",
        "\n",
        " The implementation of OLAP operations such as Slice, Dice, Rollup, Drilldown, and Pivot on the dataset provides valuable insights into the multi-dimensional analysis of data. These operations allow for more flexible data exploration and facilitate the discovery of patterns, trends, and relationships across various dimensions. By applying these operations, users can gain a deeper understanding of the dataset, enabling more informed decision-making and efficient data analysis. Overall, the experiment demonstrates the significance of OLAP techniques in enhancing data-driven analysis and reporting."
      ],
      "metadata": {
        "id": "8BgxMefms_yF"
      }
    },
    {
      "cell_type": "markdown",
      "source": [
        "GITHUB LINK:https://github.com/ommmithiya/DWM-LAB-TE-09-34\n"
      ],
      "metadata": {
        "id": "pntd5w6ssZhB"
      }
    },
    {
      "cell_type": "code",
      "source": [],
      "metadata": {
        "id": "TEOqZ3zkrFjV"
      },
      "execution_count": null,
      "outputs": []
    }
  ]
}